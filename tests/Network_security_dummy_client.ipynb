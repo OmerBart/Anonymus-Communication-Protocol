{
 "cells": [
  {
   "cell_type": "code",
   "execution_count": 9,
   "id": "1d2d6a3a-a6ed-411c-bbd4-4a05618ab0a7",
   "metadata": {},
   "outputs": [],
   "source": [
    "from Crypto.Cipher import AES\n",
    "from Crypto.Random import get_random_bytes\n",
    "from Crypto.Protocol.KDF import scrypt\n",
    "from Crypto.Util.Padding import pad, unpad\n",
    "\n",
    "def generate_symmetric_key(password, salt, key_size=16):\n",
    "    key = scrypt(password, salt, key_size, N=2 ** 14, r=8, p=1)\n",
    "    return key\n",
    "\n",
    "\n",
    "def encrypt_message(message, key):\n",
    "    iv = get_random_bytes(BLOCK_SIZE)  # Generate a random IV\n",
    "    cipher = AES.new(key, AES.MODE_CBC, iv)\n",
    "    ciphertext = cipher.encrypt(pad(message, BLOCK_SIZE))\n",
    "    return iv + ciphertext  # Prepend IV to the ciphertext\n",
    "\n",
    "\n",
    "def decrypt_message(encrypted_data, key):\n",
    "    iv = encrypted_data[:BLOCK_SIZE]  # Extract IV from the encrypted data\n",
    "    ciphertext = encrypted_data[BLOCK_SIZE:]  # Extract ciphertext\n",
    "    cipher = AES.new(key, AES.MODE_CBC, iv)\n",
    "    decrypted_message = unpad(cipher.decrypt(ciphertext), BLOCK_SIZE)\n",
    "    return decrypted_message"
   ]
  },
  {
   "cell_type": "code",
   "execution_count": null,
   "id": "b2985c7b-5abf-4bfc-9746-62105d7b977c",
   "metadata": {},
   "outputs": [
    {
     "name": "stdout",
     "output_type": "stream",
     "text": [
      "Dummy client listening on 127.0.0.1:5000\n",
      "Connected by ('127.0.0.1', 52183)\n",
      "Received: b'G\\xca\\x97}+\\x8e\\xc9\\x00\\xb7A\\x9f\\x86\\xca\\xd2|gHello man, I use gdb'\n",
      "Connected by ('127.0.0.1', 52411)\n",
      "Received: b'\\x00\\x98\\xb6\\x8e\\x85\\x9a\\x01\\x85q9\\xf8N:%\\x98\\xe0Bro\\r\\r\\r\\r\\r\\r\\r\\r\\r\\r\\r\\r\\rf\\x9ak{WS\\xa3\\xdb\\x83Q\\xb1\\x7f\\x98\\xc9\\xd0gWqt\\xff^g\\xbb\\xc80$\\xafi\\xcf\\xc4~\\x0fsee ya '\n",
      "Connected by ('127.0.0.1', 52463)\n",
      "Received: b'\\ruj\\xee\\x19l\\xdb\\xb7\\xc8\\xf7\\x82\\xa7\\xeeS\\xc43exit\\x0c\\x0c\\x0c\\x0c\\x0c\\x0c\\x0c\\x0c\\x0c\\x0c\\x0c\\x0c&\\xf9YJ\\xa1UQ\\xc3\\x00m\\x8d\\xca\\x8b\\xf7\\\\\\xb2\\x15\\x9bu\\x9a\\xb2\\xa5z\\xf3\\x95\\r\\x04\\xd2\\xd6\\xc1\\x88\\xa9exit'\n"
     ]
    }
   ],
   "source": [
    "import socket\n",
    "\n",
    "MESSAGE_PATH = r\"C:\\Users\\adina\\Desktop\\תקיית_עבודות\\אבטחת רשתות\\messages1.txt\"\n",
    "BLOCK_SIZE = AES.block_size\n",
    "\n",
    "def dummy_client(host, port):\n",
    "    try:\n",
    "        with open(MESSAGE_PATH, 'rb') as f:\n",
    "            a = str(f.read())\n",
    "            params = a.split(' ')\n",
    "            password = params[3]\n",
    "            salt_password = params[4]\n",
    "            symmetric_key = generate_symmetric_key(password=password, salt=salt_password)\n",
    "    except FileNotFoundError:\n",
    "        print(\"File not found. Please check the path:\", MESSAGE_PATH)\n",
    "        return\n",
    "    except IndexError:\n",
    "        print(\"Invalid file format. Make sure the file contains the required parameters.\")\n",
    "        return\n",
    "    except Exception as e:\n",
    "        print(\"An error occurred while reading the file:\", e)\n",
    "        pass\n",
    "\n",
    "    try:\n",
    "        with socket.socket(socket.AF_INET, socket.SOCK_STREAM) as client_socket:\n",
    "            client_socket.bind((host, port))\n",
    "            client_socket.listen()\n",
    "            print(f\"Dummy client listening on {host}:{port}\")\n",
    "\n",
    "            while True:\n",
    "                conn, addr = client_socket.accept()\n",
    "                with conn:\n",
    "                    print(f\"Connected by {addr}\")\n",
    "                    data = conn.recv(1024)\n",
    "                    if not data:\n",
    "                        break\n",
    "                    msg = decrypt_message(data,symmetric_key)\n",
    "                    print(\"Received:\", msg)\n",
    "    except OSError as e:\n",
    "        print(\"Failed to create socket:\", e)\n",
    "        pass\n",
    "    except Exception as e:\n",
    "        print(\"An error occurred during socket communication:\", e)\n",
    "        pass\n",
    "\n",
    "if __name__ == \"__main__\":\n",
    "    dummy_client(\"127.0.0.1\", 5000)\n"
   ]
  },
  {
   "cell_type": "code",
   "execution_count": null,
   "id": "37dc86f8-8b9b-4a98-905f-31a05f41978a",
   "metadata": {},
   "outputs": [],
   "source": []
  }
 ],
 "metadata": {
  "kernelspec": {
   "display_name": "Python 3 (ipykernel)",
   "language": "python",
   "name": "python3"
  },
  "language_info": {
   "codemirror_mode": {
    "name": "ipython",
    "version": 3
   },
   "file_extension": ".py",
   "mimetype": "text/x-python",
   "name": "python",
   "nbconvert_exporter": "python",
   "pygments_lexer": "ipython3",
   "version": "3.11.5"
  }
 },
 "nbformat": 4,
 "nbformat_minor": 5
}
