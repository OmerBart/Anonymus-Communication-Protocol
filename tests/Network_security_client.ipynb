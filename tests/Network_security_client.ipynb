{
 "cells": [
  {
   "cell_type": "code",
   "execution_count": 1,
   "id": "dee25930-043e-4e6b-a69e-ee5d8f2edbc6",
   "metadata": {},
   "outputs": [],
   "source": [
    "from Crypto.PublicKey import RSA\n",
    "from Crypto.Cipher import PKCS1_OAEP\n",
    "import socket\n",
    "import traceback\n",
    "import time \n",
    "import errno\n",
    "\n",
    "\n",
    "SERVER_HOST = '127.0.0.1'\n",
    "SERVER_PORT = 2030"
   ]
  },
  {
   "cell_type": "code",
   "execution_count": 2,
   "id": "b19d95cc-3b3e-4cff-9547-429736d25485",
   "metadata": {},
   "outputs": [],
   "source": [
    "class Client:\n",
    "    def __init__(self, client_name, client_port):\n",
    "        self.client_name = client_name\n",
    "        self.client_ip = None\n",
    "        self.client_port = client_port\n",
    "        self.server_PK = None  # The server's public key, to encrypt the messages while sending to the server.\n",
    "        self.cipher = None \n",
    "        \n",
    "         # Prefix building\n",
    "        ip = '_'.join(SERVER_HOST.split('.'))\n",
    "        port = str(SERVER_PORT)\n",
    "        self.prefix = f'{ip} {port}'\n",
    "\n",
    "        self.messages_sent = []\n",
    "        self.messages_received = []\n",
    "\n",
    "        self.client = socket.socket(socket.AF_INET, socket.SOCK_STREAM)  # The connection socket\n",
    "        self.run_client()\n",
    "\n",
    "    def run_client(self):\n",
    "        self.client.connect((SERVER_HOST, SERVER_PORT))        \n",
    "        PK = self.client.recv(1024).decode()  # Get the public key of the server.\n",
    "        self.server_PK = RSA.import_key(PK)\n",
    "        self.cipher = PKCS1_OAEP.new(self.server_PK)\n",
    "\n",
    "        \n",
    "        print(f\"Server's public key is yours, {PK}\")\n",
    "        user_input = ''\n",
    "        \n",
    "        while not 'exit' in user_input.lower():\n",
    "            user_input = input('Message:')\n",
    "            self.messages_sent.append(user_input)\n",
    "            message_to_server = self.prefix + ' ' + user_input  # Concatenate the prefix to the actual message\n",
    "            message_to_server_encoded = message_to_server.encode()\n",
    "            \n",
    "            # The encryption part uses the public key of the server\n",
    "            encrypted_message = self.cipher.encrypt(message_to_server_encoded)\n",
    "            self.client.send(encrypted_message)\n",
    "\n",
    "            self.receive_data()\n",
    "            \n",
    "        \n",
    "        self.client.send(user_input.lower().encode()) # Sent the exit command to the server\n",
    "        self.client.close()\n",
    "        \n",
    "    def receive_data(self, timeout=1.5):\n",
    "        self.client.setblocking(False)\n",
    "        start_time = time.time()\n",
    "        while True:\n",
    "            try:\n",
    "                data_received = self.client.recv(1024).decode()\n",
    "                if data_received:\n",
    "                    print(f\"Response: {data_received}\")\n",
    "            except socket.error as e:\n",
    "                # Handle non-blocking socket exception\n",
    "                if e.errno == errno.EWOULDBLOCK:\n",
    "                    pass  # No data available yet\n",
    "                else:\n",
    "                    print(\"Error:\", e)\n",
    "                    traceback.print_exc()\n",
    "            \n",
    "            # Check timeout\n",
    "            if time.time() - start_time >= timeout:\n",
    "                break\n",
    "        self.client.setblocking(True)  # Restore blocking mode"
   ]
  },
  {
   "cell_type": "code",
   "execution_count": 3,
   "id": "bb4ea0fb-f1cd-4a44-919f-46bb4ab3be7f",
   "metadata": {},
   "outputs": [
    {
     "name": "stdout",
     "output_type": "stream",
     "text": [
      "Server's public key is yours, -----BEGIN PUBLIC KEY-----\n",
      "MIIBIjANBgkqhkiG9w0BAQEFAAOCAQ8AMIIBCgKCAQEAyg30OXEwAKRrjUCLFw3p\n",
      "zgYjMXHm7KEMrsbG8lOvtxIELUuq+bwpNvNbNFGdZ4XlC+aKqVB8rEwO8Y3UgUB1\n",
      "QEPIwkZvPt7Dd7BPXJH3D9RjUoUAL3Nkd/6wNhEQvav8hxxrzlq49w7PXyKR6nfz\n",
      "Tl8t4RVHvmEC7TEwlgOK0AzHcVKG84bud6GRN5SDpDGrye7OogFUi5TRbIU91rvT\n",
      "29ImJ/gQk0jPsTAjZToDmSGi97q8wNNWPqInk8nqe7tEOpI3UhFiNJmdaEp1a/B+\n",
      "KDP4rFwBITBFpT+ExWvwbjd4TDVdtqrjg5usnhF3pIMYAXe/3QX0XRstkMDxum15\n",
      "cQIDAQAB\n",
      "-----END PUBLIC KEY-----\n"
     ]
    },
    {
     "name": "stdin",
     "output_type": "stream",
     "text": [
      "Message: hella\n",
      "Message: hella\n",
      "Message: te amo bitch\n"
     ]
    },
    {
     "name": "stdout",
     "output_type": "stream",
     "text": [
      "Response: 127_0_0_1 2030 hella\n",
      "Response: 127_0_0_1 2030 hella127_0_0_1 2030 te amo bitch\n"
     ]
    },
    {
     "name": "stdin",
     "output_type": "stream",
     "text": [
      "Message: holla \n",
      "Message: we dem boyz\n"
     ]
    },
    {
     "name": "stdout",
     "output_type": "stream",
     "text": [
      "Response: 127_0_0_1 2030 holla \n",
      "Response: 127_0_0_1 2030 we dem boyz\n"
     ]
    },
    {
     "ename": "KeyboardInterrupt",
     "evalue": "Interrupted by user",
     "output_type": "error",
     "traceback": [
      "\u001b[1;31m---------------------------------------------------------------------------\u001b[0m",
      "\u001b[1;31mKeyboardInterrupt\u001b[0m                         Traceback (most recent call last)",
      "Cell \u001b[1;32mIn[3], line 1\u001b[0m\n\u001b[1;32m----> 1\u001b[0m c \u001b[38;5;241m=\u001b[39m Client(client_name\u001b[38;5;241m=\u001b[39m\u001b[38;5;124m'\u001b[39m\u001b[38;5;124malice\u001b[39m\u001b[38;5;124m'\u001b[39m, client_port\u001b[38;5;241m=\u001b[39m\u001b[38;5;241m1234\u001b[39m)\n",
      "Cell \u001b[1;32mIn[2], line 18\u001b[0m, in \u001b[0;36mClient.__init__\u001b[1;34m(self, client_name, client_port)\u001b[0m\n\u001b[0;32m     15\u001b[0m \u001b[38;5;28mself\u001b[39m\u001b[38;5;241m.\u001b[39mmessages_received \u001b[38;5;241m=\u001b[39m []\n\u001b[0;32m     17\u001b[0m \u001b[38;5;28mself\u001b[39m\u001b[38;5;241m.\u001b[39mclient \u001b[38;5;241m=\u001b[39m socket\u001b[38;5;241m.\u001b[39msocket(socket\u001b[38;5;241m.\u001b[39mAF_INET, socket\u001b[38;5;241m.\u001b[39mSOCK_STREAM)  \u001b[38;5;66;03m# The connection socket\u001b[39;00m\n\u001b[1;32m---> 18\u001b[0m \u001b[38;5;28mself\u001b[39m\u001b[38;5;241m.\u001b[39mrun_client()\n",
      "Cell \u001b[1;32mIn[2], line 31\u001b[0m, in \u001b[0;36mClient.run_client\u001b[1;34m(self)\u001b[0m\n\u001b[0;32m     28\u001b[0m user_input \u001b[38;5;241m=\u001b[39m \u001b[38;5;124m'\u001b[39m\u001b[38;5;124m'\u001b[39m\n\u001b[0;32m     30\u001b[0m \u001b[38;5;28;01mwhile\u001b[39;00m \u001b[38;5;129;01mnot\u001b[39;00m \u001b[38;5;124m'\u001b[39m\u001b[38;5;124mexit\u001b[39m\u001b[38;5;124m'\u001b[39m \u001b[38;5;129;01min\u001b[39;00m user_input\u001b[38;5;241m.\u001b[39mlower():\n\u001b[1;32m---> 31\u001b[0m     user_input \u001b[38;5;241m=\u001b[39m \u001b[38;5;28minput\u001b[39m(\u001b[38;5;124m'\u001b[39m\u001b[38;5;124mMessage:\u001b[39m\u001b[38;5;124m'\u001b[39m)\n\u001b[0;32m     32\u001b[0m     \u001b[38;5;28mself\u001b[39m\u001b[38;5;241m.\u001b[39mmessages_sent\u001b[38;5;241m.\u001b[39mappend(user_input)\n\u001b[0;32m     33\u001b[0m     message_to_server \u001b[38;5;241m=\u001b[39m \u001b[38;5;28mself\u001b[39m\u001b[38;5;241m.\u001b[39mprefix \u001b[38;5;241m+\u001b[39m \u001b[38;5;124m'\u001b[39m\u001b[38;5;124m \u001b[39m\u001b[38;5;124m'\u001b[39m \u001b[38;5;241m+\u001b[39m user_input  \u001b[38;5;66;03m# Concatenate the prefix to the actual message\u001b[39;00m\n",
      "File \u001b[1;32m~\\anaconda3\\Lib\\site-packages\\ipykernel\\kernelbase.py:1262\u001b[0m, in \u001b[0;36mKernel.raw_input\u001b[1;34m(self, prompt)\u001b[0m\n\u001b[0;32m   1260\u001b[0m     msg \u001b[38;5;241m=\u001b[39m \u001b[38;5;124m\"\u001b[39m\u001b[38;5;124mraw_input was called, but this frontend does not support input requests.\u001b[39m\u001b[38;5;124m\"\u001b[39m\n\u001b[0;32m   1261\u001b[0m     \u001b[38;5;28;01mraise\u001b[39;00m StdinNotImplementedError(msg)\n\u001b[1;32m-> 1262\u001b[0m \u001b[38;5;28;01mreturn\u001b[39;00m \u001b[38;5;28mself\u001b[39m\u001b[38;5;241m.\u001b[39m_input_request(\n\u001b[0;32m   1263\u001b[0m     \u001b[38;5;28mstr\u001b[39m(prompt),\n\u001b[0;32m   1264\u001b[0m     \u001b[38;5;28mself\u001b[39m\u001b[38;5;241m.\u001b[39m_parent_ident[\u001b[38;5;124m\"\u001b[39m\u001b[38;5;124mshell\u001b[39m\u001b[38;5;124m\"\u001b[39m],\n\u001b[0;32m   1265\u001b[0m     \u001b[38;5;28mself\u001b[39m\u001b[38;5;241m.\u001b[39mget_parent(\u001b[38;5;124m\"\u001b[39m\u001b[38;5;124mshell\u001b[39m\u001b[38;5;124m\"\u001b[39m),\n\u001b[0;32m   1266\u001b[0m     password\u001b[38;5;241m=\u001b[39m\u001b[38;5;28;01mFalse\u001b[39;00m,\n\u001b[0;32m   1267\u001b[0m )\n",
      "File \u001b[1;32m~\\anaconda3\\Lib\\site-packages\\ipykernel\\kernelbase.py:1305\u001b[0m, in \u001b[0;36mKernel._input_request\u001b[1;34m(self, prompt, ident, parent, password)\u001b[0m\n\u001b[0;32m   1302\u001b[0m \u001b[38;5;28;01mexcept\u001b[39;00m \u001b[38;5;167;01mKeyboardInterrupt\u001b[39;00m:\n\u001b[0;32m   1303\u001b[0m     \u001b[38;5;66;03m# re-raise KeyboardInterrupt, to truncate traceback\u001b[39;00m\n\u001b[0;32m   1304\u001b[0m     msg \u001b[38;5;241m=\u001b[39m \u001b[38;5;124m\"\u001b[39m\u001b[38;5;124mInterrupted by user\u001b[39m\u001b[38;5;124m\"\u001b[39m\n\u001b[1;32m-> 1305\u001b[0m     \u001b[38;5;28;01mraise\u001b[39;00m \u001b[38;5;167;01mKeyboardInterrupt\u001b[39;00m(msg) \u001b[38;5;28;01mfrom\u001b[39;00m \u001b[38;5;28;01mNone\u001b[39;00m\n\u001b[0;32m   1306\u001b[0m \u001b[38;5;28;01mexcept\u001b[39;00m \u001b[38;5;167;01mException\u001b[39;00m:\n\u001b[0;32m   1307\u001b[0m     \u001b[38;5;28mself\u001b[39m\u001b[38;5;241m.\u001b[39mlog\u001b[38;5;241m.\u001b[39mwarning(\u001b[38;5;124m\"\u001b[39m\u001b[38;5;124mInvalid Message:\u001b[39m\u001b[38;5;124m\"\u001b[39m, exc_info\u001b[38;5;241m=\u001b[39m\u001b[38;5;28;01mTrue\u001b[39;00m)\n",
      "\u001b[1;31mKeyboardInterrupt\u001b[0m: Interrupted by user"
     ]
    }
   ],
   "source": [
    "c = Client(client_name='alice', client_port=1234)"
   ]
  },
  {
   "cell_type": "code",
   "execution_count": null,
   "id": "4be1baec-976a-40be-ae31-deb5b7f5a211",
   "metadata": {},
   "outputs": [],
   "source": []
  },
  {
   "cell_type": "code",
   "execution_count": null,
   "id": "510c6636-4462-45e2-abeb-b424c91273cf",
   "metadata": {},
   "outputs": [],
   "source": []
  }
 ],
 "metadata": {
  "kernelspec": {
   "display_name": "Python 3 (ipykernel)",
   "language": "python",
   "name": "python3"
  },
  "language_info": {
   "codemirror_mode": {
    "name": "ipython",
    "version": 3
   },
   "file_extension": ".py",
   "mimetype": "text/x-python",
   "name": "python",
   "nbconvert_exporter": "python",
   "pygments_lexer": "ipython3",
   "version": "3.11.5"
  }
 },
 "nbformat": 4,
 "nbformat_minor": 5
}
