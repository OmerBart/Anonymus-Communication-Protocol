{
 "cells": [
  {
   "cell_type": "code",
   "execution_count": 1,
   "id": "84668eee-bdc1-4a68-81da-0bb71cb5cca3",
   "metadata": {},
   "outputs": [],
   "source": [
    "from Crypto.PublicKey import RSA\n",
    "\n",
    "\n",
    "def generate_rsa_keys(key_size=2048):  # The RSA key generation for the server\n",
    "    key = RSA.generate(key_size)\n",
    "    p_key = key.publickey().export_key()\n",
    "    s_key = key.export_key()\n",
    "    return p_key, s_key"
   ]
  },
  {
   "cell_type": "code",
   "execution_count": 2,
   "id": "a95d5f36-ab26-4e0d-b152-ca3309414de6",
   "metadata": {},
   "outputs": [],
   "source": [
    "import socket\n",
    "from datetime import datetime, timedelta\n",
    "from Crypto.Cipher import PKCS1_OAEP\n",
    "import traceback\n",
    "\n",
    "\n",
    "def handle_client(client_socket: socket, client_address, PK, message_len, SK, deadline_time):\n",
    "    try:\n",
    "        client_socket.send(PK)  # Send the server's public key to the client\n",
    "        msgs = []  # List of all messages\n",
    "        start_time = datetime.now()\n",
    "\n",
    "        SK = RSA.import_key(SK)  # Activating the secret key of the server.\n",
    "        cipher = PKCS1_OAEP.new(SK)\n",
    "\n",
    "        data = ''\n",
    "        while not 'exit' in str(data).lower():\n",
    "            data = client_socket.recv(1024)\n",
    "            decrypted_data = cipher.decrypt(data).decode()\n",
    "            data = decrypted_data.encode()\n",
    "            msgs.append(data)\n",
    "\n",
    "            # Timeout occurrance.\n",
    "            current_time = datetime.now()\n",
    "            if current_time - start_time >= timedelta(seconds=deadline_time):\n",
    "                for m in msgs:  # Iterate over all the messages, and sent them back to the client.\n",
    "                    client_socket.send(m)\n",
    "\n",
    "                msgs.clear()  # Clear the messages list till the next timeout\n",
    "                start_time = datetime.now()  # Restart the timer.       \n",
    "    except Exception as e:\n",
    "        print(f\"Error: {e}\")\n",
    "        traceback.print_exc()\n",
    "    finally:\n",
    "        client_socket.close()  # Close the client socket when done\n"
   ]
  },
  {
   "cell_type": "code",
   "execution_count": 3,
   "id": "829fdfb7-fef7-4f35-9d98-5d3f705ccec7",
   "metadata": {},
   "outputs": [],
   "source": [
    "import socket\n",
    "import concurrent.futures\n",
    "\n",
    "HOST = '127.0.0.1'\n",
    "PORT = 2030\n",
    "\n",
    "\n",
    "class Server:\n",
    "    def __init__(self):\n",
    "        self.PK, self.SK = generate_rsa_keys()  # The keys' generation phase.\n",
    "        self.sock = socket.socket(socket.AF_INET,\n",
    "                                  socket.SOCK_STREAM)  # The main socket that will bind to the HOST & PORT\n",
    "        self.message_len = 1000  # 1000 bytes for a single message.\n",
    "        self.deadline_time = 10  # The deadline time for the server keeps client's messages before sent them.\n",
    "        self.clients = []  # List of clients with their names, ports,and ip addresses.\n",
    "        self.pool = concurrent.futures.ThreadPoolExecutor(max_workers=5)  # Thread-pool executor\n",
    "\n",
    "        print(f\"The server is listening on {HOST}:{PORT}\")\n",
    "        self.sock.bind((HOST, PORT))  # The actual bind.\n",
    "        self.sock.listen()\n",
    "\n",
    "        self.run_server()\n",
    "\n",
    "    def run_server(self):\n",
    "        while True:\n",
    "            client_socket, client_address = self.sock.accept()\n",
    "            print(f\"New client connected: {client_address}\")\n",
    "            self.pool.submit(handle_client, client_socket, client_address, self.PK, self.message_len, self.SK,\n",
    "                             self.deadline_time)\n"
   ]
  },
  {
   "cell_type": "code",
   "execution_count": null,
   "id": "ef641593-ff33-472e-a986-f525897d63c0",
   "metadata": {},
   "outputs": [],
   "source": [
    "server = Server()"
   ]
  },
  {
   "cell_type": "code",
   "execution_count": null,
   "id": "b2713471-4ed0-4fe3-961b-8e1b4c2af3a3",
   "metadata": {},
   "outputs": [],
   "source": []
  }
 ],
 "metadata": {
  "kernelspec": {
   "display_name": "Python 3 (ipykernel)",
   "language": "python",
   "name": "python3"
  },
  "language_info": {
   "codemirror_mode": {
    "name": "ipython",
    "version": 3
   },
   "file_extension": ".py",
   "mimetype": "text/x-python",
   "name": "python",
   "nbconvert_exporter": "python",
   "pygments_lexer": "ipython3",
   "version": "3.11.5"
  }
 },
 "nbformat": 4,
 "nbformat_minor": 5
}
